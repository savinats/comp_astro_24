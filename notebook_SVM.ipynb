{
  "cells": [
    {
      "cell_type": "markdown",
      "metadata": {
        "id": "view-in-github",
        "colab_type": "text"
      },
      "source": [
        "<a href=\"https://colab.research.google.com/github/savinats/comp_astro_24/blob/main/notebook_SVM.ipynb\" target=\"_parent\"><img src=\"https://colab.research.google.com/assets/colab-badge.svg\" alt=\"Open In Colab\"/></a>"
      ]
    },
    {
      "cell_type": "markdown",
      "metadata": {
        "_uuid": "2bba6a15c8e257d2ac514ab85cd2cc92ed213ba2",
        "id": "g61bvisEgSwZ"
      },
      "source": [
        "Medium post: https://medium.com/@gabogarza/exoplanet-hunting-with-machine-learning-and-kepler-data-recall-100-155e1ddeaa95\n",
        "\n",
        "Github repo: https://github.com/gabrielgarza/exoplanet-deep-learning"
      ]
    },
    {
      "cell_type": "markdown",
      "metadata": {
        "_uuid": "b6b2254965f03e535cb73f1abf3bba4ec5c3cfe4",
        "id": "LhHaMG5ggSwk"
      },
      "source": [
        "### Import libraries"
      ]
    },
    {
      "cell_type": "code",
      "execution_count": null,
      "metadata": {
        "_cell_guid": "b1076dfc-b9ad-4769-8c92-a6c4dae69d19",
        "_uuid": "8f2839f25d086af736a60e9eeb907d3b93b6e0e5",
        "trusted": true,
        "id": "HF5caZDFgSwm"
      },
      "outputs": [],
      "source": [
        "import pandas as pd\n",
        "import numpy as np\n",
        "import matplotlib.pyplot as plt\n",
        "import math\n",
        "import time\n",
        "from pathlib import Path\n",
        "from sklearn.model_selection import train_test_split\n",
        "from sklearn.metrics import classification_report\n",
        "from sklearn.utils import shuffle\n",
        "from sklearn.metrics import accuracy_score, precision_score, recall_score, confusion_matrix\n",
        "from sklearn.svm import SVC, LinearSVC, NuSVC\n",
        "from scipy import ndimage, fft\n",
        "from sklearn.preprocessing import normalize\n",
        "import os\n",
        "root_dir = \"path_to_data/data_no_injection\"\n",
        "print(os.listdir(root_dir))\n"
      ]
    },
    {
      "cell_type": "markdown",
      "metadata": {
        "_uuid": "d28cb86655c3af600b8377e7de783c488c2e3676",
        "id": "9i6T_f8zgSwr"
      },
      "source": [
        "## Data Preprocessor"
      ]
    },
    {
      "cell_type": "code",
      "execution_count": null,
      "metadata": {
        "_uuid": "87e08df975d26a6d05feb1005931fa20ad450fde",
        "collapsed": true,
        "trusted": true,
        "id": "Pf0O2MlqgSwr"
      },
      "outputs": [],
      "source": [
        "import pandas as pd\n",
        "import numpy as np\n",
        "from scipy import ndimage, fft\n",
        "from sklearn.preprocessing import normalize, StandardScaler, MinMaxScaler\n",
        "\n",
        "class LightFluxProcessor:\n",
        "\n",
        "    def __init__(self, fourier=True, normalize=True, gaussian=True, standardize=True):\n",
        "        self.fourier = fourier\n",
        "        self.normalize = normalize\n",
        "        self.gaussian = gaussian\n",
        "        self.standardize = standardize\n",
        "\n",
        "    def fourier_transform(self, X):\n",
        "        return np.abs(fft.fft(X, n=X.size))\n",
        "\n",
        "    def process(self, df_train_x, df_dev_x):\n",
        "        # Apply fourier transform\n",
        "        if self.fourier:\n",
        "            print(\"Applying Fourier...\")\n",
        "            shape_train = df_train_x.shape\n",
        "            shape_dev = df_dev_x.shape\n",
        "            df_train_x = df_train_x.apply(self.fourier_transform,axis=1)\n",
        "            df_dev_x = df_dev_x.apply(self.fourier_transform,axis=1)\n",
        "\n",
        "            df_train_x_build = np.zeros(shape_train)\n",
        "            df_dev_x_build = np.zeros(shape_dev)\n",
        "\n",
        "            for ii, x in enumerate(df_train_x):\n",
        "                df_train_x_build[ii] = x\n",
        "\n",
        "            for ii, x in enumerate(df_dev_x):\n",
        "                df_dev_x_build[ii] = x\n",
        "\n",
        "            df_train_x = pd.DataFrame(df_train_x_build)\n",
        "            df_dev_x = pd.DataFrame(df_dev_x_build)\n",
        "\n",
        "\n",
        "            # Keep first half of data as it is symmetrical after previous steps\n",
        "            df_train_x = df_train_x.iloc[:,:(df_train_x.shape[1]//2)].values\n",
        "            df_dev_x = df_dev_x.iloc[:,:(df_dev_x.shape[1]//2)].values\n",
        "\n",
        "        # Normalize\n",
        "        if self.normalize:\n",
        "            print(\"Normalizing...\")\n",
        "            df_train_x = pd.DataFrame(normalize(df_train_x))\n",
        "            df_dev_x = pd.DataFrame(normalize(df_dev_x))\n",
        "\n",
        "            # df_train_x = df_train_x.div(df_train_x.sum(axis=1), axis=0)\n",
        "            # df_dev_x = df_dev_x.div(df_dev_x.sum(axis=1), axis=0)\n",
        "\n",
        "\n",
        "        # Gaussian filter to smooth out data\n",
        "        if self.gaussian:\n",
        "            print(\"Applying Gaussian Filter...\")\n",
        "            df_train_x = ndimage.gaussian_filter(df_train_x, sigma=10)\n",
        "            df_dev_x = ndimage.gaussian_filter(df_dev_x, sigma=10)\n",
        "\n",
        "        if self.standardize:\n",
        "            # Standardize X data\n",
        "            print(\"Standardizing...\")\n",
        "            std_scaler = StandardScaler()\n",
        "            df_train_x = std_scaler.fit_transform(df_train_x)\n",
        "            df_dev_x = std_scaler.transform(df_dev_x)\n",
        "\n",
        "        print(\"Finished Processing!\")\n",
        "        return df_train_x, df_dev_x\n"
      ]
    },
    {
      "cell_type": "markdown",
      "metadata": {
        "_uuid": "c17634d1b3ecb3fd7b361d19c8774df26dac4ea2",
        "id": "qJV8mQFWgSwu"
      },
      "source": [
        "### Load datasets"
      ]
    },
    {
      "cell_type": "code",
      "execution_count": null,
      "metadata": {
        "_uuid": "8aef4d6898bf06a2414a3a675a1fa9400f97cbd6",
        "trusted": true,
        "id": "_NaPRgzEgSww"
      },
      "outputs": [],
      "source": [
        "train_dataset_path = os.path.join(root_dir, \"./exoTrain.csv\")\n",
        "dev_dataset_path = os.path.join(root_dir, \"./exoTest.csv\")\n",
        "\n",
        "print(\"Loading datasets...\")\n",
        "df_train = pd.read_csv(train_dataset_path, encoding = \"ISO-8859-1\")\n",
        "df_dev = pd.read_csv(dev_dataset_path, encoding = \"ISO-8859-1\")\n",
        "print(\"Loaded datasets!\")\n",
        "\n",
        "# Generate X and Y dataframe sets\n",
        "df_train_x = df_train.drop('LABEL', axis=1)\n",
        "df_dev_x = df_dev.drop('LABEL', axis=1)\n",
        "df_train_y = df_train.LABEL\n",
        "df_dev_y = df_dev.LABEL\n",
        "df_train"
      ]
    },
    {
      "cell_type": "code",
      "execution_count": null,
      "metadata": {
        "id": "3JrmoOBbgSwz"
      },
      "outputs": [],
      "source": [
        "%matplotlib widget\n",
        "data = df_train_x.to_numpy()\n",
        "ii = 0\n",
        "while ii < len(data):\n",
        "    index = np.random.randint(0, len(data))\n",
        "    label = df_train_y[index]\n",
        "    if label == 2.0:\n",
        "        plt.figure()\n",
        "        plt.plot(range(len(data[index, :])), data[index, :])\n",
        "        plt.title(f\"Lightcurve at index {index} with label {label}\")\n",
        "        break\n",
        "    ii += 1"
      ]
    },
    {
      "cell_type": "markdown",
      "metadata": {
        "_uuid": "3e03e00f593729a6fb36841cde640a0cb366bf4f",
        "id": "bHA-3xvugSw1"
      },
      "source": [
        "### Process data and create numpy matrices"
      ]
    },
    {
      "cell_type": "code",
      "execution_count": null,
      "metadata": {
        "_uuid": "504e0ecddfafc27cdf49022f2950566373c0d6fe",
        "collapsed": true,
        "trusted": true,
        "id": "cRtNNwxvgSw2"
      },
      "outputs": [],
      "source": [
        "def np_X_Y_from_df(df):\n",
        "    df = shuffle(df)\n",
        "    df_X = df.drop(['LABEL'], axis=1)\n",
        "    X = np.array(df_X)\n",
        "    Y_raw = np.array(df['LABEL']).reshape((len(df['LABEL']),1))\n",
        "    Y = Y_raw == 2\n",
        "    return X, Y"
      ]
    },
    {
      "cell_type": "code",
      "execution_count": null,
      "metadata": {
        "_uuid": "90a0ea43b0ef441d5ff094adec4d6a1e2030ab58",
        "trusted": true,
        "id": "kYbNFmrugSw3"
      },
      "outputs": [],
      "source": [
        "# Process dataset\n",
        "LFP = LightFluxProcessor(\n",
        "    fourier=True,\n",
        "    normalize=True,\n",
        "    gaussian=True,\n",
        "    standardize=True)\n",
        "df_train_x, df_dev_x = LFP.process(df_train_x, df_dev_x)\n",
        "\n",
        "# display(df_train_x)\n",
        "\n",
        "\n",
        "# Rejoin X and Y\n",
        "df_train_processed = pd.DataFrame(df_train_x).join(pd.DataFrame(df_train_y))\n",
        "df_dev_processed = pd.DataFrame(df_dev_x).join(pd.DataFrame(df_dev_y))\n",
        "\n",
        "# Load X and Y numpy arrays\n",
        "X_train, Y_train = np_X_Y_from_df(df_train_processed)\n",
        "X_dev, Y_dev = np_X_Y_from_df(df_dev_processed)"
      ]
    },
    {
      "cell_type": "markdown",
      "metadata": {
        "_uuid": "0eb999422374f71b0f44292382dee19239332f37",
        "id": "VD6iCuMAgSw4"
      },
      "source": [
        "### Describe datasets"
      ]
    },
    {
      "cell_type": "code",
      "execution_count": null,
      "metadata": {
        "_uuid": "744f7863433eb3b36ca7e93abd2311dd658c790b",
        "trusted": true,
        "id": "MpmBM7fugSw4"
      },
      "outputs": [],
      "source": [
        "(num_examples, n_x) = X_train.shape # (n_x: input size, m : number of examples in the train set)\n",
        "n_y = Y_train.shape[1] # n_y : output size\n",
        "print(\"X_train.shape: \", X_train.shape)\n",
        "print(\"Y_train.shape: \", Y_train.shape)\n",
        "print(\"X_dev.shape: \", X_dev.shape)\n",
        "print(\"Y_dev.shape: \", Y_dev.shape)\n",
        "print(\"n_x: \", n_x)\n",
        "print(\"num_examples: \", num_examples)\n",
        "print(\"n_y: \", n_y)"
      ]
    },
    {
      "cell_type": "markdown",
      "metadata": {
        "_uuid": "b4783cdb1902414c346e39c709b5619788e4b748",
        "id": "LMGaOtLRgSw5"
      },
      "source": [
        "## Build Model, Train, and Predict"
      ]
    },
    {
      "cell_type": "code",
      "execution_count": null,
      "metadata": {
        "_uuid": "cea07ef250b87a2d326410dd5985e9cec1517c46",
        "trusted": true,
        "id": "_xrZhB9LgSw5"
      },
      "outputs": [],
      "source": [
        "model = LinearSVC()\n",
        "\n",
        "\n",
        "X_train_sm, Y_train_sm = X_train, Y_train\n",
        "\n",
        "# Train\n",
        "print(\"Training...\")\n",
        "model.fit(X_train_sm, Y_train_sm)\n",
        "\n",
        "train_outputs = model.predict(X_train_sm)\n",
        "dev_outputs = model.predict(X_dev)\n",
        "print(\"Finished Training!\")"
      ]
    },
    {
      "cell_type": "code",
      "execution_count": null,
      "metadata": {
        "id": "vuXvscaXgSw5"
      },
      "outputs": [],
      "source": [
        "dev_outputs.shape"
      ]
    },
    {
      "cell_type": "markdown",
      "metadata": {
        "_uuid": "1d89125e42171a7bfda48da4313b92ca0b04d866",
        "id": "yDVXubEKgSw6"
      },
      "source": [
        "## Calculate and Display Metrics"
      ]
    },
    {
      "cell_type": "code",
      "execution_count": null,
      "metadata": {
        "_uuid": "9e3b8584de8273df5d255d6cd0eebbb0590c458c",
        "trusted": true,
        "id": "vFerStrIgSw6"
      },
      "outputs": [],
      "source": [
        "# Metrics\n",
        "train_outputs = model.predict(X_train_sm)\n",
        "dev_outputs = model.predict(X_dev)\n",
        "train_outputs = np.rint(train_outputs)\n",
        "dev_outputs = np.rint(dev_outputs)\n",
        "accuracy_train = accuracy_score(Y_train_sm, train_outputs)\n",
        "accuracy_dev = accuracy_score(Y_dev, dev_outputs)\n",
        "precision_train = precision_score(Y_train_sm, train_outputs)\n",
        "precision_dev = precision_score(Y_dev, dev_outputs)\n",
        "recall_train = recall_score(Y_train_sm, train_outputs)\n",
        "recall_dev = recall_score(Y_dev, dev_outputs)\n",
        "confusion_matrix_train = confusion_matrix(Y_train_sm, train_outputs)\n",
        "confusion_matrix_dev = confusion_matrix(Y_dev, dev_outputs)\n",
        "classification_report_train = classification_report(Y_train_sm, train_outputs)\n",
        "classification_report_dev = classification_report(Y_dev, dev_outputs)\n",
        "\n",
        "print(\" \")\n",
        "print(\" \")\n",
        "print(\"Train Set Error\", 1.0 - accuracy_train)\n",
        "print(\"Dev Set Error\", 1.0 - accuracy_dev)\n",
        "print(\"------------\")\n",
        "print(\"Precision - Train Set\", precision_train)\n",
        "print(\"Precision - Dev Set\", precision_dev)\n",
        "print(\"------------\")\n",
        "print(\"Recall - Train Set\", recall_train)\n",
        "print(\"Recall - Dev Set\", recall_dev)\n",
        "print(\"------------\")\n",
        "print(\"Confusion Matrix - Train Set\")\n",
        "print(confusion_matrix_train)\n",
        "print(\"Confusion Matrix - Dev Set\")\n",
        "print(confusion_matrix_dev)\n",
        "print(\"------------\")\n",
        "print(\" \")\n",
        "print(\" \")\n",
        "print(\"------------\")\n",
        "print(\"classification_report_train\")\n",
        "print(classification_report_train)\n",
        "print(\"classification_report_dev\")\n",
        "print(classification_report_dev)"
      ]
    },
    {
      "cell_type": "code",
      "execution_count": null,
      "metadata": {
        "_uuid": "1b8f75a0a1976000bc34e71a65c512d124825097",
        "collapsed": true,
        "trusted": true,
        "id": "FzPZs_O6gSw6"
      },
      "outputs": [],
      "source": []
    }
  ],
  "metadata": {
    "kernelspec": {
      "display_name": "Python 3",
      "language": "python",
      "name": "python3"
    },
    "language_info": {
      "codemirror_mode": {
        "name": "ipython",
        "version": 3
      },
      "file_extension": ".py",
      "mimetype": "text/x-python",
      "name": "python",
      "nbconvert_exporter": "python",
      "pygments_lexer": "ipython3",
      "version": "3.10.15"
    },
    "colab": {
      "provenance": [],
      "include_colab_link": true
    }
  },
  "nbformat": 4,
  "nbformat_minor": 0
}